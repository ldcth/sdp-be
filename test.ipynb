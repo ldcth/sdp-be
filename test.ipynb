{
 "cells": [
  {
   "cell_type": "code",
   "execution_count": 1,
   "metadata": {},
   "outputs": [
    {
     "name": "stdout",
     "output_type": "stream",
     "text": [
      "-OCtVr9MP27UrtIN44zw {'cart': ['book1', 'book2'], 'date': '2024-11-29', 'gender': True, 'history': ['order1', 'order2'], 'id': '1', 'info': 'System Administrator', 'managed_users': ['2', '3', '4'], 'name': 'John Doe', 'password': 'securepassword', 'permissions': ['manage_users', 'view_reports', 'edit_content'], 'phone': '0123456789', 'role': 'Admin', 'username': 'admin123'}\n",
      "-OCtgV62_YOYSYcme8Qs {'date': '2024-11-29', 'gender': True, 'history': ['delivery1', 'delivery2'], 'id': '3', 'info': 'Delivery Specialist', 'name': 'Mike Johnson', 'password': 'deliversecure', 'phone': '0123456789', 'region': 'Downtown', 'role': 'DeliveryMan', 'username': 'delivery_mike'}\n"
     ]
    }
   ],
   "source": [
    "import pyrebase\n",
    "import uuid\n",
    "\n",
    "from core.config import db\n",
    "\n",
    "problems = db.child(\"user\").get()\n",
    "\n",
    "# Iterate through the retrieved data\n",
    "for problem in problems.each():\n",
    "    print(problem.key(), problem.val())"
   ]
  },
  {
   "cell_type": "code",
   "execution_count": 2,
   "metadata": {},
   "outputs": [
    {
     "name": "stdout",
     "output_type": "stream",
     "text": [
      "id='1' name='John Doe' username='admin123' password='securepassword' date='2024-11-29' gender=True info='System Administrator' phone='0123456789' role='Admin' permissions=['manage_users', 'view_reports', 'edit_content'] managed_users=['2', '3', '4']\n",
      "id='2' name='Jane Smith' username='jane_smith' password='userpassword' date='2024-11-29' gender=False info='Regular customer' phone='0123456789' role='User' cart=['book1', 'book2'] history=['order1', 'order2']\n",
      "id='3' name='Mike Johnson' username='delivery_mike' password='deliversecure' date='2024-11-29' gender=True info='Delivery Specialist' phone='0123456789' role='DeliveryMan' history=['delivery1', 'delivery2'] region='Downtown'\n"
     ]
    }
   ],
   "source": [
    "from models.users import  create_user\n",
    "\n",
    "admin_data = {\n",
    "    \"id\": \"1\",\n",
    "    \"name\": \"John Doe\",\n",
    "    \"username\": \"admin123\",\n",
    "    \"password\": \"securepassword\",\n",
    "    \"date\": \"2024-11-29\",\n",
    "    \"phone\": \"0123456789\",\n",
    "    \"gender\": True,\n",
    "    \"info\": \"System Administrator\",\n",
    "    \"role\": \"Admin\",\n",
    "    \"permissions\": [\"manage_users\", \"view_reports\", \"edit_content\"],\n",
    "    \"managed_users\": [\"2\", \"3\", \"4\"],\n",
    "}\n",
    "\n",
    "# Dữ liệu mẫu cho RegularUser\n",
    "user_data = {\n",
    "    \"id\": \"2\",\n",
    "    \"name\": \"Jane Smith\",\n",
    "    \"username\": \"jane_smith\",\n",
    "    \"password\": \"userpassword\",\n",
    "    \"date\": \"2024-11-29\",\n",
    "    \"phone\": \"0123456789\",\n",
    "    \"gender\": False,\n",
    "    \"info\": \"Regular customer\",\n",
    "    \"role\": \"User\",\n",
    "    \"cart\": [\"book1\", \"book2\"],\n",
    "    \"history\": [\"order1\", \"order2\"],\n",
    "    # \"subscription_type\": \"Premium\",\n",
    "    # \"wishlist\": [\"book3\", \"book4\"],\n",
    "}\n",
    "\n",
    "# Dữ liệu mẫu cho DeliveryMan\n",
    "delivery_man_data = {\n",
    "    \"id\": \"3\",\n",
    "    \"name\": \"Mike Johnson\",\n",
    "    \"username\": \"delivery_mike\",\n",
    "    \"password\": \"deliversecure\",\n",
    "    \"date\": \"2024-11-29\",\n",
    "    \"phone\": \"0123456789\",\n",
    "    \"gender\": True,\n",
    "    \"info\": \"Delivery Specialist\",\n",
    "    \"role\": \"DeliveryMan\",\n",
    "    \"history\": [\"delivery1\", \"delivery2\"],\n",
    "    # \"vehicle\": \"Motorbike\",\n",
    "    \"region\": \"Downtown\",\n",
    "    # \"completed_deliveries\": 120,\n",
    "    # \"rating\":[5, 5]\n",
    "}\n",
    "\n",
    "# Tạo đối tượng bằng Factory Method\n",
    "admin = create_user(admin_data)\n",
    "user1 = create_user(user_data)\n",
    "delivery_man = create_user(delivery_man_data)\n",
    "\n",
    "# Kiểm tra kết quả\n",
    "print(admin)\n",
    "print(user1)\n",
    "print(delivery_man)"
   ]
  },
  {
   "cell_type": "code",
   "execution_count": null,
   "metadata": {},
   "outputs": [
    {
     "data": {
      "text/plain": [
       "{'name': '-OCtHDbLiMdhCo830cW9'}"
      ]
     },
     "execution_count": 4,
     "metadata": {},
     "output_type": "execute_result"
    }
   ],
   "source": [
    "# # Chuyển đối tượng RegularUser thành dictionary\n",
    "# user_dict = user1.dict()\n",
    "\n",
    "# # Đẩy dữ liệu lên Firebase\n",
    "# db.child(\"user\").push(user_dict)\n"
   ]
  },
  {
   "cell_type": "code",
   "execution_count": null,
   "metadata": {},
   "outputs": [],
   "source": [
    "from repositories.db_repository import FirebaseService\n",
    "from models.users import User, create_user\n",
    "from collections import OrderedDict\n",
    "\n",
    "\n",
    "class UserRepository:\n",
    "    def __init__(self):\n",
    "        self.collection_name = \"user\"\n",
    "\n",
    "    def add_user(self, user_data: dict):\n",
    "        # Tạo đối tượng User dựa trên role\n",
    "        user = create_user(user_data)\n",
    "        key = user.id\n",
    "        FirebaseService.add_data(self.collection_name, key, user.dict())\n",
    "        return {\"message\": \"User created successfully.\"}\n",
    "\n",
    "    def get_all_users(self):\n",
    "        # Lấy tất cả người dùng từ Firebase\n",
    "        users_data = FirebaseService.get_data(self.collection_name)\n",
    "        # return [create_user(user) for user in users_data]\n",
    "        if isinstance(users_data, OrderedDict):\n",
    "        # Duyệt qua các giá trị trong OrderedDict và tạo đối tượng User\n",
    "            return [create_user(user_data) for user_data in users_data.values()]\n",
    "        else:\n",
    "            raise ValueError(\"Data from Firebase is not in expected format\")\n",
    "\n",
    "\n",
    "    def get_user_by_id(self, user_id: str):\n",
    "        users_data = FirebaseService.get_data_by_key(self.collection_name, user_id)\n",
    "        # user_get = db.child(self.collection_name).order_by_child(\"id\").equal_to(user_id).get()\n",
    "        # # print(user_get)\n",
    "        # for user in user_get.each():\n",
    "        #     # print(user.key())  # In khóa của mỗi bản ghi\n",
    "        #     # print(user.val()) \n",
    "        #     return create_user(user.val())\n",
    "        return create_user(users_data.val())\n",
    "\n",
    "    def update_user(self, user_id: str, user_data: dict):\n",
    "        # Tạo đối tượng User và cập nhật dữ liệu\n",
    "        usernew = create_user(user_data)\n",
    "        # user_get = db.child(self.collection_name).order_by_child(\"id\").equal_to(user_id).get()\n",
    "        # # print(user_get)\n",
    "        # for user in user_get.each():\n",
    "        #     tmp_key = user.key()\n",
    "        #     db.child(\"user\").child(tmp_key).update(usernew.dict())\n",
    "        FirebaseService.update_data(self.collection_name, user_id, usernew.dict())\n",
    "        return {\"message\": \"User updated successfully.\"}\n",
    "\n",
    "    def delete_user(self, user_id: str):\n",
    "        FirebaseService.delete_data(self.collection_name, user_id)\n",
    "        return {\"message\": \"User deleted successfully.\"}\n",
    "\n",
    "\n",
    "# Khởi tạo một instance cho repository\n",
    "user_repository = UserRepository()\n"
   ]
  },
  {
   "cell_type": "code",
   "execution_count": 4,
   "metadata": {},
   "outputs": [],
   "source": [
    "user = create_user(user_data)\n",
    "key = user.id\n",
    "FirebaseService.add_data(\"user\", key, user.dict())"
   ]
  },
  {
   "cell_type": "code",
   "execution_count": 5,
   "metadata": {},
   "outputs": [
    {
     "data": {
      "text/plain": [
       "{'message': 'User created successfully.'}"
      ]
     },
     "execution_count": 5,
     "metadata": {},
     "output_type": "execute_result"
    }
   ],
   "source": [
    "user_repository.add_user(user_data)"
   ]
  },
  {
   "cell_type": "code",
   "execution_count": 4,
   "metadata": {},
   "outputs": [
    {
     "name": "stdout",
     "output_type": "stream",
     "text": [
      "[Admin(id='2', name='John Doe', username='admin123', password='securepassword', date='2024-11-29', gender=True, info='System Administrator', phone='0123456789', role='Admin', permissions=['manage_users', 'view_reports', 'edit_content'], managed_users=['2', '3', '4']), Admin(id='1', name='John Doe', username='admin123', password='securepassword', date='2024-11-29', gender=True, info='System Administrator', phone='0123456789', role='Admin', permissions=['manage_users', 'view_reports', 'edit_content'], managed_users=['2', '3', '4']), DeliveryMan(id='3', name='Mike Johnson', username='delivery_mike', password='deliversecure', date='2024-11-29', gender=True, info='Delivery Specialist', phone='0123456789', role='DeliveryMan', history=['delivery1', 'delivery2'], region='Downtown')]\n"
     ]
    }
   ],
   "source": [
    "all_users = user_repository.get_all_users()\n",
    "print(all_users)"
   ]
  },
  {
   "cell_type": "code",
   "execution_count": 5,
   "metadata": {},
   "outputs": [
    {
     "name": "stdout",
     "output_type": "stream",
     "text": [
      "id='1' name='John Doe' username='admin123' password='securepassword' date='2024-11-29' gender=True info='System Administrator' phone='0123456789' role='Admin' permissions=['manage_users', 'view_reports', 'edit_content'] managed_users=['2', '3', '4']\n"
     ]
    }
   ],
   "source": [
    "all_users=user_repository.get_user_by_id( \"1\")\n",
    "print(all_users)"
   ]
  },
  {
   "cell_type": "code",
   "execution_count": 16,
   "metadata": {},
   "outputs": [
    {
     "name": "stdout",
     "output_type": "stream",
     "text": [
      "-OCtVr9MP27UrtIN44zw\n",
      "{'date': '2024-11-29', 'gender': True, 'id': '1', 'info': 'System Administrator', 'managed_users': ['2', '3', '4'], 'name': 'John Doe', 'password': 'securepassword', 'permissions': ['manage_users', 'view_reports', 'edit_content'], 'phone': '0123456789', 'role': 'Admin', 'username': 'admin123'}\n"
     ]
    }
   ],
   "source": [
    "collection = \"user\"\n",
    "key = \"1\"\n",
    "user_get = db.child(collection).order_by_child(\"id\").equal_to(key).get()\n",
    "# print(user_get)\n",
    "for user in user_get.each():\n",
    "    print(user.key())  # In khóa của mỗi bản ghi\n",
    "    print(user.val()) \n",
    "    create_user(user.val())"
   ]
  },
  {
   "cell_type": "code",
   "execution_count": 13,
   "metadata": {},
   "outputs": [
    {
     "name": "stdout",
     "output_type": "stream",
     "text": [
      "OrderedDict([('-OCtUuomHx8WrsFz8EnQ', {'date': '2024-11-29', 'gender': True, 'id': '2', 'info': 'System Administrator', 'managed_users': ['2', '3', '4'], 'name': 'John Doe', 'password': 'securepassword', 'permissions': ['manage_users', 'view_reports', 'edit_content'], 'phone': '0123456789', 'role': 'Admin', 'username': 'admin123'})])\n"
     ]
    }
   ],
   "source": [
    "users_data1 = FirebaseService.get_data_by_key(\"user\",\"2\")\n",
    "print(users_data1)"
   ]
  },
  {
   "cell_type": "code",
   "execution_count": null,
   "metadata": {},
   "outputs": [],
   "source": []
  },
  {
   "cell_type": "code",
   "execution_count": null,
   "metadata": {},
   "outputs": [],
   "source": []
  },
  {
   "cell_type": "code",
   "execution_count": 13,
   "metadata": {},
   "outputs": [
    {
     "data": {
      "text/plain": [
       "{'message': 'User updated successfully.'}"
      ]
     },
     "execution_count": 13,
     "metadata": {},
     "output_type": "execute_result"
    }
   ],
   "source": [
    "user_repository.update_user(\"2\",admin_data)"
   ]
  },
  {
   "cell_type": "code",
   "execution_count": 12,
   "metadata": {},
   "outputs": [
    {
     "data": {
      "text/plain": [
       "{'message': 'User updated successfully.'}"
      ]
     },
     "execution_count": 12,
     "metadata": {},
     "output_type": "execute_result"
    }
   ],
   "source": [
    "user_repository.update_user(\"1\",user_data)"
   ]
  },
  {
   "cell_type": "code",
   "execution_count": null,
   "metadata": {},
   "outputs": [],
   "source": [
    "FirebaseService.update_data(\"user\", \"1\",user_data)"
   ]
  },
  {
   "cell_type": "code",
   "execution_count": 4,
   "metadata": {},
   "outputs": [
    {
     "data": {
      "text/plain": [
       "{'message': 'User deleted successfully.'}"
      ]
     },
     "execution_count": 4,
     "metadata": {},
     "output_type": "execute_result"
    }
   ],
   "source": [
    "user_repository.delete_user(\"2\")"
   ]
  }
 ],
 "metadata": {
  "kernelspec": {
   "display_name": "myenv",
   "language": "python",
   "name": "python3"
  },
  "language_info": {
   "codemirror_mode": {
    "name": "ipython",
    "version": 3
   },
   "file_extension": ".py",
   "mimetype": "text/x-python",
   "name": "python",
   "nbconvert_exporter": "python",
   "pygments_lexer": "ipython3",
   "version": "3.10.7"
  }
 },
 "nbformat": 4,
 "nbformat_minor": 2
}
