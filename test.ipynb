{
 "cells": [
  {
   "cell_type": "code",
   "execution_count": 1,
   "metadata": {},
   "outputs": [
    {
     "name": "stdout",
     "output_type": "stream",
     "text": [
      "-OCtVr9MP27UrtIN44zw {'cart': ['book1', 'book2'], 'date': '2024-11-29', 'gender': True, 'history': ['order1', 'order2'], 'id': '1', 'info': 'System Administrator', 'managed_users': ['2', '3', '4'], 'name': 'John Doe', 'password': 'securepassword', 'permissions': ['manage_users', 'view_reports', 'edit_content'], 'phone': '0123456789', 'role': 'Admin', 'username': 'admin123'}\n",
      "-OCtgV62_YOYSYcme8Qs {'date': '2024-11-29', 'gender': True, 'history': ['delivery1', 'delivery2'], 'id': '3', 'info': 'Delivery Specialist', 'name': 'Mike Johnson', 'password': 'deliversecure', 'phone': '0123456789', 'region': 'Downtown', 'role': 'DeliveryMan', 'username': 'delivery_mike'}\n"
     ]
    }
   ],
   "source": [
    "import pyrebase\n",
    "import uuid\n",
    "\n",
    "from core.config import db\n",
    "\n",
    "problems = db.child(\"user\").get()\n",
    "\n",
    "# Iterate through the retrieved data\n",
    "for problem in problems.each():\n",
    "    print(problem.key(), problem.val())"
   ]
  },
  {
   "cell_type": "code",
   "execution_count": 2,
   "metadata": {},
   "outputs": [
    {
     "name": "stdout",
     "output_type": "stream",
     "text": [
      "id='1' name='John Doe' username='admin123' password='securepassword' date='2024-11-29' gender=True info='System Administrator' phone='0123456789' role='Admin' permissions=['manage_users', 'view_reports', 'edit_content'] managed_users=['2', '3', '4']\n",
      "id='2' name='Jane Smith' username='jane_smith' password='userpassword' date='2024-11-29' gender=False info='Regular customer' phone='0123456789' role='User' cart=['book1', 'book2'] history=['order1', 'order2']\n",
      "id='3' name='Mike Johnson' username='delivery_mike' password='deliversecure' date='2024-11-29' gender=True info='Delivery Specialist' phone='0123456789' role='DeliveryMan' history=['delivery1', 'delivery2'] region='Downtown'\n"
     ]
    }
   ],
   "source": [
    "from models.users import  create_user\n",
    "\n",
    "admin_data = {\n",
    "    \"id\": \"1\",\n",
    "    \"name\": \"John Doe\",\n",
    "    \"username\": \"admin123\",\n",
    "    \"password\": \"securepassword\",\n",
    "    \"date\": \"2024-11-29\",\n",
    "    \"phone\": \"0123456789\",\n",
    "    \"gender\": True,\n",
    "    \"info\": \"System Administrator\",\n",
    "    \"role\": \"Admin\",\n",
    "    \"permissions\": [\"manage_users\", \"view_reports\", \"edit_content\"],\n",
    "    \"managed_users\": [\"2\", \"3\", \"4\"],\n",
    "}\n",
    "\n",
    "# Dữ liệu mẫu cho RegularUser\n",
    "user_data = {\n",
    "    \"id\": \"2\",\n",
    "    \"name\": \"Jane Smith\",\n",
    "    \"username\": \"jane_smith\",\n",
    "    \"password\": \"userpassword\",\n",
    "    \"date\": \"2024-11-29\",\n",
    "    \"phone\": \"0123456789\",\n",
    "    \"gender\": False,\n",
    "    \"info\": \"Regular customer\",\n",
    "    \"role\": \"User\",\n",
    "    \"cart\": [\"book1\", \"book2\"],\n",
    "    \"history\": [\"order1\", \"order2\"],\n",
    "    # \"subscription_type\": \"Premium\",\n",
    "    # \"wishlist\": [\"book3\", \"book4\"],\n",
    "}\n",
    "\n",
    "# Dữ liệu mẫu cho DeliveryMan\n",
    "delivery_man_data = {\n",
    "    \"id\": \"3\",\n",
    "    \"name\": \"Mike Johnson\",\n",
    "    \"username\": \"delivery_mike\",\n",
    "    \"password\": \"deliversecure\",\n",
    "    \"date\": \"2024-11-29\",\n",
    "    \"phone\": \"0123456789\",\n",
    "    \"gender\": True,\n",
    "    \"info\": \"Delivery Specialist\",\n",
    "    \"role\": \"DeliveryMan\",\n",
    "    \"history\": [\"delivery1\", \"delivery2\"],\n",
    "    # \"vehicle\": \"Motorbike\",\n",
    "    \"region\": \"Downtown\",\n",
    "    # \"completed_deliveries\": 120,\n",
    "    # \"rating\":[5, 5]\n",
    "}\n",
    "\n",
    "# Tạo đối tượng bằng Factory Method\n",
    "admin = create_user(admin_data)\n",
    "user1 = create_user(user_data)\n",
    "delivery_man = create_user(delivery_man_data)\n",
    "\n",
    "# Kiểm tra kết quả\n",
    "print(admin)\n",
    "print(user1)\n",
    "print(delivery_man)"
   ]
  },
  {
   "cell_type": "code",
   "execution_count": null,
   "metadata": {},
   "outputs": [
    {
     "data": {
      "text/plain": [
       "{'name': '-OCtHDbLiMdhCo830cW9'}"
      ]
     },
     "execution_count": 4,
     "metadata": {},
     "output_type": "execute_result"
    }
   ],
   "source": [
    "# # Chuyển đối tượng RegularUser thành dictionary\n",
    "# user_dict = user1.dict()\n",
    "\n",
    "# # Đẩy dữ liệu lên Firebase\n",
    "# db.child(\"user\").push(user_dict)\n"
   ]
  },
  {
   "cell_type": "code",
   "execution_count": null,
   "metadata": {},
   "outputs": [],
   "source": [
    "from repositories.db_repository import FirebaseService\n",
    "from models.users import User, create_user\n",
    "from collections import OrderedDict\n",
    "\n",
    "\n",
    "class UserRepository:\n",
    "    def __init__(self):\n",
    "        self.collection_name = \"user\"\n",
    "\n",
    "    def add_user(self, user_data: dict):\n",
    "        # Tạo đối tượng User dựa trên role\n",
    "        user = create_user(user_data)\n",
    "        key = user.id\n",
    "        FirebaseService.add_data(self.collection_name, key, user.dict())\n",
    "        return {\"message\": \"User created successfully.\"}\n",
    "\n",
    "    def get_all_users(self):\n",
    "        # Lấy tất cả người dùng từ Firebase\n",
    "        users_data = FirebaseService.get_data(self.collection_name)\n",
    "        # return [create_user(user) for user in users_data]\n",
    "        if isinstance(users_data, OrderedDict):\n",
    "        # Duyệt qua các giá trị trong OrderedDict và tạo đối tượng User\n",
    "            return [create_user(user_data) for user_data in users_data.values()]\n",
    "        else:\n",
    "            raise ValueError(\"Data from Firebase is not in expected format\")\n",
    "\n",
    "\n",
    "    def get_user_by_id(self, user_id: str):\n",
    "        users_data = FirebaseService.get_data_by_key(self.collection_name, user_id)\n",
    "        # user_get = db.child(self.collection_name).order_by_child(\"id\").equal_to(user_id).get()\n",
    "        # # print(user_get)\n",
    "        # for user in user_get.each():\n",
    "        #     # print(user.key())  # In khóa của mỗi bản ghi\n",
    "        #     # print(user.val()) \n",
    "        #     return create_user(user.val())\n",
    "        return create_user(users_data.val())\n",
    "\n",
    "    def update_user(self, user_id: str, user_data: dict):\n",
    "        # Tạo đối tượng User và cập nhật dữ liệu\n",
    "        usernew = create_user(user_data)\n",
    "        # user_get = db.child(self.collection_name).order_by_child(\"id\").equal_to(user_id).get()\n",
    "        # # print(user_get)\n",
    "        # for user in user_get.each():\n",
    "        #     tmp_key = user.key()\n",
    "        #     db.child(\"user\").child(tmp_key).update(usernew.dict())\n",
    "        FirebaseService.update_data(self.collection_name, user_id, usernew.dict())\n",
    "        return {\"message\": \"User updated successfully.\"}\n",
    "\n",
    "    def delete_user(self, user_id: str):\n",
    "        FirebaseService.delete_data(self.collection_name, user_id)\n",
    "        return {\"message\": \"User deleted successfully.\"}\n",
    "\n",
    "\n",
    "# Khởi tạo một instance cho repository\n",
    "user_repository = UserRepository()\n"
   ]
  },
  {
   "cell_type": "code",
   "execution_count": 4,
   "metadata": {},
   "outputs": [],
   "source": [
    "user = create_user(user_data)\n",
    "key = user.id\n",
    "FirebaseService.add_data(\"user\", key, user.dict())"
   ]
  },
  {
   "cell_type": "code",
   "execution_count": 5,
   "metadata": {},
   "outputs": [
    {
     "data": {
      "text/plain": [
       "{'message': 'User created successfully.'}"
      ]
     },
     "execution_count": 5,
     "metadata": {},
     "output_type": "execute_result"
    }
   ],
   "source": [
    "user_repository.add_user(user_data)"
   ]
  },
  {
   "cell_type": "code",
   "execution_count": 4,
   "metadata": {},
   "outputs": [
    {
     "name": "stdout",
     "output_type": "stream",
     "text": [
      "[Admin(id='2', name='John Doe', username='admin123', password='securepassword', date='2024-11-29', gender=True, info='System Administrator', phone='0123456789', role='Admin', permissions=['manage_users', 'view_reports', 'edit_content'], managed_users=['2', '3', '4']), Admin(id='1', name='John Doe', username='admin123', password='securepassword', date='2024-11-29', gender=True, info='System Administrator', phone='0123456789', role='Admin', permissions=['manage_users', 'view_reports', 'edit_content'], managed_users=['2', '3', '4']), DeliveryMan(id='3', name='Mike Johnson', username='delivery_mike', password='deliversecure', date='2024-11-29', gender=True, info='Delivery Specialist', phone='0123456789', role='DeliveryMan', history=['delivery1', 'delivery2'], region='Downtown')]\n"
     ]
    }
   ],
   "source": [
    "all_users = user_repository.get_all_users()\n",
    "print(all_users)"
   ]
  },
  {
   "cell_type": "code",
   "execution_count": 8,
   "metadata": {},
   "outputs": [
    {
     "name": "stdout",
     "output_type": "stream",
     "text": [
      "id='1' name='John Doe' username='admin123' password='securepassword' date='2024-11-29' gender=True info='System Administrator' phone='0123456789' role='Admin' permissions=['manage_users', 'view_reports', 'edit_content'] managed_users=['2', '3', '4']\n"
     ]
    }
   ],
   "source": [
    "all_users=user_repository.get_user_by_id( \"1\")\n",
    "print(all_users)"
   ]
  },
  {
   "cell_type": "code",
   "execution_count": 16,
   "metadata": {},
   "outputs": [
    {
     "name": "stdout",
     "output_type": "stream",
     "text": [
      "-OCtVr9MP27UrtIN44zw\n",
      "{'date': '2024-11-29', 'gender': True, 'id': '1', 'info': 'System Administrator', 'managed_users': ['2', '3', '4'], 'name': 'John Doe', 'password': 'securepassword', 'permissions': ['manage_users', 'view_reports', 'edit_content'], 'phone': '0123456789', 'role': 'Admin', 'username': 'admin123'}\n"
     ]
    }
   ],
   "source": [
    "collection = \"user\"\n",
    "key = \"1\"\n",
    "user_get = db.child(collection).order_by_child(\"id\").equal_to(key).get()\n",
    "# print(user_get)\n",
    "for user in user_get.each():\n",
    "    print(user.key())  # In khóa của mỗi bản ghi\n",
    "    print(user.val()) \n",
    "    create_user(user.val())"
   ]
  },
  {
   "cell_type": "code",
   "execution_count": 13,
   "metadata": {},
   "outputs": [
    {
     "name": "stdout",
     "output_type": "stream",
     "text": [
      "OrderedDict([('-OCtUuomHx8WrsFz8EnQ', {'date': '2024-11-29', 'gender': True, 'id': '2', 'info': 'System Administrator', 'managed_users': ['2', '3', '4'], 'name': 'John Doe', 'password': 'securepassword', 'permissions': ['manage_users', 'view_reports', 'edit_content'], 'phone': '0123456789', 'role': 'Admin', 'username': 'admin123'})])\n"
     ]
    }
   ],
   "source": [
    "users_data1 = FirebaseService.get_data_by_key(\"user\",\"2\")\n",
    "print(users_data1)"
   ]
  },
  {
   "cell_type": "code",
   "execution_count": 13,
   "metadata": {},
   "outputs": [
    {
     "data": {
      "text/plain": [
       "{'message': 'User updated successfully.'}"
      ]
     },
     "execution_count": 13,
     "metadata": {},
     "output_type": "execute_result"
    }
   ],
   "source": [
    "user_repository.update_user(\"2\",admin_data)"
   ]
  },
  {
   "cell_type": "code",
   "execution_count": 12,
   "metadata": {},
   "outputs": [
    {
     "data": {
      "text/plain": [
       "{'message': 'User updated successfully.'}"
      ]
     },
     "execution_count": 12,
     "metadata": {},
     "output_type": "execute_result"
    }
   ],
   "source": [
    "user_repository.update_user(\"1\",user_data)"
   ]
  },
  {
   "cell_type": "code",
   "execution_count": null,
   "metadata": {},
   "outputs": [],
   "source": [
    "FirebaseService.update_data(\"user\", \"1\",user_data)"
   ]
  },
  {
   "cell_type": "code",
   "execution_count": 4,
   "metadata": {},
   "outputs": [
    {
     "data": {
      "text/plain": [
       "{'message': 'User deleted successfully.'}"
      ]
     },
     "execution_count": 4,
     "metadata": {},
     "output_type": "execute_result"
    }
   ],
   "source": [
    "user_repository.delete_user(\"2\")"
   ]
  },
  {
   "cell_type": "markdown",
   "metadata": {},
   "source": [
    "## Books"
   ]
  },
  {
   "cell_type": "code",
   "execution_count": 1,
   "metadata": {},
   "outputs": [],
   "source": [
    "import pyrebase\n",
    "import uuid\n",
    "\n",
    "from core.config import db"
   ]
  },
  {
   "cell_type": "code",
   "execution_count": 35,
   "metadata": {},
   "outputs": [],
   "source": [
    "book1 = {\n",
    "        \"id\": 111111,\n",
    "        \"name\": \"Nhà Giả Kim\",\n",
    "        \"price\": 71100,\n",
    "        \"description\": \"Nhà Giả Kim Tất cả những trải nghiệm trong chuyến phiêu du theo đuổi vận mệnh của mình đã giúp Santiago thấu hiểu được ý nghĩa sâu xa nhất của hạnh phúc, hòa hợp với vũ trụ và con người.\\nTiểu thuyết Nhà giả kim của Paulo Coelho như một câu chuyện cổ tích giản dị, nhân ái, giàu chất thơ, thấm đẫm những minh triết huyền bí của phương Đông. Trong lần xuất bản đầu tiên tại Brazil vào năm 1988, sách chỉ bán được 900 bản. Nhưng, với số phận đặc biệt của cuốn sách dành cho toàn nhân loại, vượt ra ngoài biên giới quốc gia, Nhà giả kim đã làm rung động hàng triệu tâm hồn, trở thành một trong những cuốn sách bán chạy nhất mọi thời đại, và có thể làm thay đổi cuộc đời người đọc.\\n“Nhưng nhà luyện kim đan không quan tâm mấy đến những điều ấy. Ông đã từng thấy nhiều người đến rồi đi, trong khi ốc đảo và sa mạc vẫn là ốc đảo và sa mạc. Ông đã thấy vua chúa và kẻ ăn xin đi qua biển cát này, cái biển cát thường xuyên thay hình đổi dạng vì gió thổi nhưng vẫn mãi mãi là biển cát mà ông đã biết từ thuở nhỏ. Tuy vậy, tự đáy lòng mình, ông không thể không cảm thấy vui trước hạnh phúc của mỗi người lữ khách, sau bao ngày chỉ có cát vàng với trời xanh nay được thấy chà là xanh tươi hiện ra trước mắt. ‘Có thể Thượng đế tạo ra sa mạc chỉ để cho con người biết quý trọng cây chà là,’ ông nghĩ.”\\n- Trích Nhà giả kimGiá sản phẩm trên Tiki đã bao gồm thuế theo luật hiện hành. Bên cạnh đó, tuỳ vào loại sản phẩm, hình thức và địa chỉ giao hàng mà có thể phát sinh thêm chi phí khác như phí vận chuyển, phụ phí hàng cồng kềnh, thuế nhập khẩu (đối với đơn hàng giao từ nước ngoài có giá trị trên 1 triệu đồng).....\",\n",
    "        \"authors\": [\n",
    "            {\n",
    "                \"id\": 9173,\n",
    "                \"name\": \"Paulo Coelho\"\n",
    "            }\n",
    "        ],\n",
    "        \"quantity\": 37,\n",
    "        \"image_urls\": [\n",
    "            \"https://salt.tikicdn.com/cache/w1200/ts/product/f4/f9/1f/9d737e0491083a2b9d9de2ca86fef84d.jpg\",\n",
    "            \"https://salt.tikicdn.com/cache/w1200/ts/product/83/30/87/737846efdb9f28f0f51352cacf9225c5.jpg\"\n",
    "        ],\n",
    "        \"rating_average\": 4.7,\n",
    "        \"review_count\": 5,\n",
    "        \"quantity_sold\": 7,\n",
    "        \"category\": \"Tiểu Thuyết\"\n",
    "    }\n",
    "\n",
    "book2 = {\n",
    "        \"id\": 11111212311,\n",
    "        \"name\": \"21 Nguyên Tắc Tự Do Tài Chính (Tái Bản)\",\n",
    "        \"price\": 46000,\n",
    "        \"description\": \"Không ai tốt bằng bạn và không ai thông minh hơn bạn. Những người thành công đơn giản là những người bình thường đã luyện tập và áp dụng thành công 21 nguyên tắc này để đạt được tự do tài chính. Và bạn hoàn toàn có thể giống họ. Triệu phú cũng là người bình thường, nhưng điểm khác biệt ở chỗ họ đã áp dụng 21 nguyên tắc này trong cuộc sống và công việc của mình.\\n\\\"21 Nguyên tắc tự do tài chính\\\" được viết với sự tóm lược ra ngắn ngọn và dễ hiểu của ông Brian Trancy. Với các nguyên tắc từ việc thay đổi suy nghĩ, đến đi vào tính hành động và hành động ngay lập tức, rồi tư duy rộng để đưa bản thân chạm đến sự thành công lớn với chính mình. Vậy 21 nguyên tắc đó là gì: \\n1. Mơ những giấc mơ lớn\\n2. Đưa ra chỉ dẫn rõ ràng\\n3. Coi mình là một người chủ\\n4. Hãy làm những điều bạn yêu thích\\n5. Cam kết với sự hoàn hảo\\n6. Làm việc lâu hơn, chăm chỉ hơn\\n7. Học tập suốt đời\\n8. Trước hết hãy trả công cho mình\\n9. Học mọi chi tiết về công việc của mình\\n10. Tận tâm phụng sự cho người khác\\n11. Thành thật tuyệt đối với chính mình và với người khác\\n12. Xác định điều ưu tiên cao nhất và tập trung toàn bộ tâm trí vào đó\\n13. Tạo dựng danh tiếng về tốc độ và độ tin cậy\\n14. Chuẩn bị để leo từ đỉnh cao này tới đỉnh cao kia\\n15. Tự rèn luyện kỷ luật trong tất cả mọi việc\\n16. Khai mở khả năng sáng tạo thiên bẩm của bạn\\n17. Giao du với đúng người\\n18. Hãy chăm sóc sức khoẻ thể chất của bạn\\n19. Quyết đoán và xu hướng hành động\\n20. Không bao giờ cho phép thất bại trở thành lựa chọn\\n21. Vượt qua \\\"thử thách tính kiên trì\\\"\\nCuốn sách nhỏ này sẽ cung cấp cho bạn phương thức để bạn có thể trở thành triệu phú, cho dù bạn là ai và có xuất phát điểm hiện tại như thế nào. Bạn sẽ học được cách xác lập mục tiêu, lên kế hoạch và tổ chức hành động để có thể đạt được nhiều mục tiêu tài chính hơn những gì bạn mong muốn.Giá sản phẩm trên Tiki đã bao gồm thuế theo luật hiện hành. Bên cạnh đó, tuỳ vào loại sản phẩm, hình thức và địa chỉ giao hàng mà có thể phát sinh thêm chi phí khác như phí vận chuyển, phụ phí hàng cồng kềnh, thuế nhập khẩu (đối với đơn hàng giao từ nước ngoài có giá trị trên 1 triệu đồng).....\",\n",
    "        \"authors\": [\n",
    "            {\n",
    "                \"id\": 3673,\n",
    "                \"name\": \"Brian Tracy\"\n",
    "            }\n",
    "        ],\n",
    "        \"quantity\": 70,\n",
    "        \"image_urls\": [\n",
    "            \"https://salt.tikicdn.com/cache/w1200/ts/product/16/4b/7a/79be0c1ab963a8bc29961ada3d3a633d.jpg\",\n",
    "            \"https://salt.tikicdn.com/cache/w1200/ts/product/97/85/08/b321d2cba71ebd3def481d4f780bcf49.jpg\"\n",
    "        ],\n",
    "        \"rating_average\": 5,\n",
    "        \"review_count\": 3,\n",
    "        \"quantity_sold\": 3,\n",
    "        \"category\": \"Sách tài chính\"\n",
    "    }\n",
    "\n",
    "book3 = {\n",
    "        \"id\": 145289356,\n",
    "        \"name\": \"Sách Atomic Habits - Thay Đổi Tí Hon, Hiệu Quả Bất Ngờ ( Những Thay Đổi Nhỏ Tạo Nên Thành Công Lớn/ Tặng kèm Bookmark)\",\n",
    "        \"price\": 170000,\n",
    "        \"description\": \"Atomic Habits - Thay Đổi Tí Hon, Hiệu Quả Bất Ngờ\\n•  Wall Street Journal Bestseller, USA Today Bestseller, Publisher's Weekly Bestseller•  Nằm trong Top 20 tựa sách thể loại non-fiction bán chạy và được tìm đọc nhiều nhất của Amazon suốt 40 tuần tính đến tháng 9/2019\\nMột thay đổi tí hon có thể biến đổi cuộc đời bạn không?\\nHẳn là khó đồng ý với điều đó. Nhưng nếu bạn thay đổi thêm một chút? Một chút nữa? Rồi thêm một chút nữa? Đến một lúc nào đó, bạn phải công nhận rằng cuộc sống của mình đã chuyển biến nhờ vào một thay đổi nhỏ\\nVà đó chính là sức mạnh của thói quen nguyên tử.Giá sản phẩm trên Tiki đã bao gồm thuế theo luật hiện hành. Bên cạnh đó, tuỳ vào loại sản phẩm, hình thức và địa chỉ giao hàng mà có thể phát sinh thêm chi phí khác như phí vận chuyển, phụ phí hàng cồng kềnh, thuế nhập khẩu (đối với đơn hàng giao từ nước ngoài có giá trị trên 1 triệu đồng).....\",\n",
    "        \"authors\": [],\n",
    "        \"quantity\": 143,\n",
    "        \"image_urls\": [\n",
    "            \"https://salt.tikicdn.com/cache/w1200/ts/product/9f/81/ed/27bf5e6d1e5cb3aa8425ee8fc62aa652.png\",\n",
    "            \"https://salt.tikicdn.com/cache/w1200/ts/product/e2/32/b3/085ee546b06b792e847edd88b02b8f15.jpg\"\n",
    "        ],\n",
    "        \"rating_average\": 5,\n",
    "        \"review_count\": 4,\n",
    "        \"quantity_sold\": 8,\n",
    "        \"category\": \"Sách tư duy - Kỹ năng sống\"\n",
    "    },"
   ]
  },
  {
   "cell_type": "code",
   "execution_count": null,
   "metadata": {},
   "outputs": [],
   "source": [
    "from repositories.db_repository import FirebaseService\n",
    "from models.book import Book, create_book\n",
    "from collections import OrderedDict\n",
    "from pydantic import ValidationError\n",
    "\n",
    "\n",
    "class BookRepository:\n",
    "    def __init__(self):\n",
    "        self.collection_name = \"books\"\n",
    "\n",
    "    def add_book(self, book_data: dict):\n",
    "        # Tạo đối tượng book dựa trên role\n",
    "        book = create_book(book_data)\n",
    "        key = book.id\n",
    "        FirebaseService.add_data(self.collection_name, key, book.dict())\n",
    "        return {\"message\": \"book created successfully.\"}\n",
    "\n",
    "\n",
    "    def get_all_books(self):\n",
    "        \"\"\"\n",
    "        Lấy tất cả sách từ Firebase và bỏ qua các sách thiếu name hoặc price.\n",
    "        \"\"\"\n",
    "        # Lấy dữ liệu từ Firebase\n",
    "        books_data = FirebaseService.get_data(self.collection_name)\n",
    "        \n",
    "        if isinstance(books_data, OrderedDict):\n",
    "            # Duyệt qua từng sách, chỉ giữ sách hợp lệ\n",
    "            valid_books = []\n",
    "            for book_data in books_data.values():\n",
    "                # Bỏ qua sách không có 'name' hoặc 'price'\n",
    "                if not book_data.get('name') or not book_data.get('price'):\n",
    "                    continue\n",
    "                # Tạo đối tượng Book từ dữ liệu hợp lệ\n",
    "                valid_books.append(create_book(book_data))\n",
    "                # try:\n",
    "                #     valid_books.append(create_book(book_data))\n",
    "                # except ValidationError as e:\n",
    "                #     print(f\"Skipping invalid book data: {book_data}\")\n",
    "            \n",
    "            return valid_books\n",
    "        else:\n",
    "            raise ValueError(\"Data from Firebase is not in expected format\")\n",
    "\n",
    "    def get_book_by_id(self, book_id: int):\n",
    "        books_data = FirebaseService.get_data_by_key(self.collection_name, book_id)\n",
    "        return create_book(books_data)\n",
    "\n",
    "    def update_book_byID(self, book_id: int, book_data: dict):\n",
    "        FirebaseService.update_data(self.collection_name, book_id, book_data)\n",
    "        return {\"message\": \"book updated successfully.\"}\n",
    "    \n",
    "    def update_book(self, book_data: dict):\n",
    "        # Tạo đối tượng book và cập nhật dữ liệu\n",
    "        book = create_book(book_data)\n",
    "        key = book.id\n",
    "        FirebaseService.update_data(self.collection_name, key, book.dict())\n",
    "        return {\"message\": \"book updated successfully.\"}\n",
    "\n",
    "    def delete_book(self, book_id: int):\n",
    "        FirebaseService.delete_data(self.collection_name, book_id)\n",
    "        return {\"message\": \"book deleted successfully.\"}\n",
    "\n",
    "\n",
    "# Khởi tạo một instance cho repository\n",
    "book_repository = BookRepository()\n"
   ]
  },
  {
   "cell_type": "code",
   "execution_count": 4,
   "metadata": {},
   "outputs": [
    {
     "name": "stdout",
     "output_type": "stream",
     "text": [
      "[Book(id=341073, name='Xin Hãy Quên Em', quantity=24, author=[1607], price=59400, description='Xin Hãy Quên Em\\nCuộc đời bạn đột ngột thay đổi khi một  mầm sống mới cựa quậy trong lòng bạn. Vui sướng, ngỡ ngàng và cả lo  lắng, thậm chí khủng hoảng, khiếp hãi… là những triệu chứng dễ bắt gặp  từ những bà mẹ đơn thân.\\nThật không dễ dàng gì để bắt đầu một  cuộc sống mới! Sau cái chết đột ngột của mẹ, Anna Temple nhận ra rằng cô  cần phải sống và theo đuổi giấc mơ trở thành một nhà thiết kế vườn.  Đánh đổi quỹ phòng ngừa rủi ro cho các bờ cỏ, và cổ phiếu cho cây hoàng  anh ngát hương thơm, cô tạm biệt cuộc sống chốn thành thị xô bồ để bắt  đầu một khởi đầu mới ở vùng nông thôn. \\nNhưng trước khi tương lai mới đầy  tươi sáng của cô ùa tới, cô đã gặp Xan – một anh chàng cực kỳ đẹp trai,  và cuộc gặp mặt của họ đã làm thay đổi thế giới của cô theo nhiều cách  mà cô khó có thể tưởng tượng–xuất hiện bé Milly. Việc sắp xếp lại công  việc mới và niềm vui lẫn niềm sợ hãi của việc làm mẹ là  một nỗ lực khá lớn, đặc biệt khi cô chỉ có một mình và rồi khi Anna  phát hiện ra bí mật gia đình đã được che giấu từ lâu, các việc xấu xa  được phơi bày ra ngoài ánh sáng. Đột nhiên mọi thứ không như nó vốn có,  kể cả trong quá khứ hay hiện tại!\\nTác giả:\\nIsabel Wolff sinh ở Warwickshire, theo  học ngữ văn ởCambridge. Tiểu thuyết đầu tay “The Trials of Tiffany  Trott” của cô đã trở thành cuốn sách bán chạy nhất trên toàn thế giới.  Và ba cuốn tiếp theo: “The Making of Minty Malone”, “Out of the Blue” và  “Rescuing Rose” đều trở thành sách bán chạy nhất trên toàn thế giới.  Các bài báo cô viết cũng xuất hiện nhiều trong các báo và tạp chí quốc  gia và cô là người điểm tin cho chương trình Breakfast News của kênh  BBC1. Isabel hiện sống ởLondon. Sách của cô được bán bản quyền cho hơn  20 nước trên toàn thế giới, luôn lọt vào Top 10 cuốn sách bán chạy nhất  do tờ The Sunday Times bình chọn.\\nLỜI KHEN TẶNG DÀNH CHO ISABEL WOLFF:\\n“Quá thông minh cho thể loại chick-lit.” - Time out\\n“Một sự kết hợp tuyệt vời… Văn phong của Wolff thật hấp dẫn.” - Independent on Sunday\\n“Wolff có một cách tiếp cận nhẹ nhàng và cách hành văn mượt mà khiến câu chuyện trôi đi một cách tự nhiên.” - Marie Claire\\n“Một câu truyện hài lãng mạn, hóm hỉnh và ấm áp. Hoàn hảo! Tác phẩm của Wolff có rất nhiều thực tế cũng như niềm vui.” - Helen Lederer, Express\\nNgày phát hành dự kiến: 30/09/2011Giá sản phẩm trên Tiki đã bao gồm thuế theo luật hiện hành. Bên cạnh đó, tuỳ vào loại sản phẩm, hình thức và địa chỉ giao hàng mà có thể phát sinh thêm chi phí khác như phí vận chuyển, phụ phí hàng cồng kềnh, thuế nhập khẩu (đối với đơn hàng giao từ nước ngoài có giá trị trên 1 triệu đồng).....', rating_average=4.3, quantity_sold=0, review_count=24, image=[], category='Tiểu Thuyết'), Book(id=347334, name='Có Hai Con Mèo Ngồi Bên Cửa Sổ', quantity=1330, author=[4107], price=69830, description='Có Hai Con Mèo Ngồi Bên Cửa Sổ\\nNhân vật chính thứ nhất tên là Gấu.\\nNhân vật thứ hai là Tí Hon.\\nNhân vật thứ ba, tên là…; còn nữa, nhân vật thứ tư, tên là…\\nĐể biết tại sao Gấu lại chơi thân với Tí Hon, thì mời bạn hãy mở sách ra.\\nGấu và Tí Hon thân nhau đến mức có thể chia sẻ từng chuyện vui buồn trong những phút giây mềm yếu, lo lắng và chăm sóc, giúp nhau từ miếng ăn đến “chiến lược” để tồn tại lâu dài.Tình bạn là gì? Bạn gái là gì? Tình yêu là gì?Bọn mèo chuột kể với chúng ta nhiều câu chuyện nhỏ, gửi thông điệp rằng, tình yêu có sức mạnh tuyệt diệu, có thể làm nên mọi điều phi thường trong cuộc sống muôn loài.\\nCuốn truyện có độ dầy vừa phải, 67 hình vẽ của họa sĩ Đỗ Hoàng Tường sinh động đến từng nét nũng nịu hay kiêu căng của nàng mèo người yêu mèo Gấu, câu chuyện thì hấp dẫn duyên dáng điểm những bài thơ tình lãng mạn nao lòng song đọc to lên thì khiến cười hinh hích…\\nBạn hãy đọc nhé, để thấy, Nguyễn Nhật Ánh đã viết truyện mèo chuột theo cái cách của riêng mình độc đáo như thế nào.Giá sản phẩm trên Tiki đã bao gồm thuế theo luật hiện hành. Bên cạnh đó, tuỳ vào loại sản phẩm, hình thức và địa chỉ giao hàng mà có thể phát sinh thêm chi phí khác như phí vận chuyển, phụ phí hàng cồng kềnh, thuế nhập khẩu (đối với đơn hàng giao từ nước ngoài có giá trị trên 1 triệu đồng).....', rating_average=4.7, quantity_sold=24389, review_count=1330, image=[], category='Tiểu Thuyết'), Book(id=378448, name='Nhà Giả Kim', quantity=1, author=[9173], price=71100, description='Nhà Giả Kim\\nTất cả những trải nghiệm trong chuyến phiêu du theo đuổi vận mệnh của mình đã giúp Santiago thấu hiểu được ý nghĩa sâu xa nhất của hạnh phúc, hòa hợp với vũ trụ và con người.\\nTiểu thuyết Nhà giả kim của Paulo Coelho như một câu chuyện cổ tích giản dị, nhân ái, giàu chất thơ, thấm đẫm những minh triết huyền bí của phương Đông. Trong lần xuất bản đầu tiên tại Brazil vào năm 1988, sách chỉ bán được 900 bản. Nhưng, với số phận đặc biệt của cuốn sách dành cho toàn nhân loại, vượt ra ngoài biên giới quốc gia, Nhà giả kim đã làm rung động hàng triệu tâm hồn, trở thành một trong những cuốn sách bán chạy nhất mọi thời đại, và có thể làm thay đổi cuộc đời người đọc.\\n“Nhưng nhà luyện kim đan không quan tâm mấy đến những điều ấy. Ông đã từng thấy nhiều người đến rồi đi, trong khi ốc đảo và sa mạc vẫn là ốc đảo và sa mạc. Ông đã thấy vua chúa và kẻ ăn xin đi qua biển cát này, cái biển cát thường xuyên thay hình đổi dạng vì gió thổi nhưng vẫn mãi mãi là biển cát mà ông đã biết từ thuở nhỏ. Tuy vậy, tự đáy lòng mình, ông không thể không cảm thấy vui trước hạnh phúc của mỗi người lữ khách, sau bao ngày chỉ có cát vàng với trời xanh nay được thấy chà là xanh tươi hiện ra trước mắt. ‘Có thể Thượng đế tạo ra sa mạc chỉ để cho con người biết quý trọng cây chà là,’ ông nghĩ.”\\n- Trích Nhà giả kimGiá sản phẩm trên Tiki đã bao gồm thuế theo luật hiện hành. Bên cạnh đó, tuỳ vào loại sản phẩm, hình thức và địa chỉ giao hàng mà có thể phát sinh thêm chi phí khác như phí vận chuyển, phụ phí hàng cồng kềnh, thuế nhập khẩu (đối với đơn hàng giao từ nước ngoài có giá trị trên 1 triệu đồng).....', rating_average=5.0, quantity_sold=7, review_count=1, image=[], category='Tiểu Thuyết'), Book(id=381234, name='Cuốn Sách Hoàn Hảo Về Ngôn Ngữ Cơ Thể - Body Language (Tái Bản)', quantity=1216, author=[21427], price=147000, description='Ngôn Ngữ Cơ Thể - Body Language (Tái Bản)\\nAngelina Jolie luôn phơi bày bờ môi gợi cảm \\'chết người\\', Adolf Hitler thích sử dụng bàn tay úp ngược, vươn thẳng khi khẳng định quyền lực. Cuốn Ngôn ngữ cơ thể là những giải mã thú vị về bề ngoài của con người.\\nTrong cuộc sống, hầu như ai cũng bị chi phối quá nhiều bởi lời nói, vì thế đôi khi chúng ta quên rằng, cơ thể con người là bộ \\'từ điển sống\\'. Quyển sách Ngôn ngữ cơ thể là cẩm nang thú vị để bước vào bộ từ điển này \"Từ móng tay, tay áo, đôi ủng, đầu gối quần đến những vết chai ở ngón trỏ và ngón cái hay nét mặt, cổ tay áo, tác phong của một người đều nói lên nghề nghiệp của họ.\\nSự thật là tất cả những yếu tố này phối hợp lại có thể giúp điều tra viên tài giỏi làm sáng tỏ mọi vụ án\", Sherlock Holmes, nhân vật thám tử nổi tiếng của Conan Doyle, đã nói như thế về khả năng nhận định con người qua bề ngoài của họ. Tất nhiên, quyển Ngôn ngữ cơ thể của tác giả Allan và Barbara Pease không nhằm mục đích biến độc giả thành thám tử tư với con mắt \"cú vọ\". Nhưng nếu ai thừa nhận rằng: \"Đôi lúc, dáng vẻ khi bạn đang nói quan trọng hơn điều bạn muốn nói ra\", thì cuốn sách sẽ mang lại những kiến thức tham khảo thú vị về tâm lý học và văn hóa giao tiếp. Sách dày gần 500 trang, được viết bằng lối văn trò chuyện giản dị nhưng cũng rất khoa học, nhiều hình ảnh minh họa sinh động về các tình huống ứng xử, các bài trắc nghiệm thú vị.\\nCác ví dụ, dẫn chứng tác giả nêu ra trong sách không mang tính phỏng đoán, suy luận suông. Phần lớn chúng được đúc rút từ những khảo sát và thí nghiệm thực tế. Sách được thiết kế sao cho độc giả có thể lật bất kỳ trang nào cũng có thể đọc và hiểu ngay. Khi nắm được ngôn ngữ của cơ thể, người đọc có thể hiểu rằng, những người dối trá thường chỉ có thể giả vờ trong một thời gian ngắn, vì dáng vẻ bề ngoài sẽ vô tình \"tố cáo\" những gì họ che giấu.\\nNếu bạn biết rèn cho mình khả năng quan sát hoạt động giao tiếp của con người, thậm chí chỉ trong cách bắt tay như thế nào cho hiệu quả, bạn sẽ thấy thành công trong giao tiếp tự nhiên đến với mình. Khi một người có thể sử dụng tốt ngôn ngữ cơ thể họ, điều đó chứng tỏ rằng họ hiểu rõ bản thân, biết cách hiểu người khác và họ tự tin. Vì thế, phần lớn các nhân vật danh tiếng đều là những \"bậc thày\" về sử dụng ngôn ngữ cơ thể. Ngoài ra, cuốn sách còn cung cấp cho người đọc nhiều kiến thức thú vị về sự khác biệt trong giao tiếp giữa con người với con người đến từ các quốc gia khác nhau.Giá sản phẩm trên Tiki đã bao gồm thuế theo luật hiện hành. Bên cạnh đó, tuỳ vào loại sản phẩm, hình thức và địa chỉ giao hàng mà có thể phát sinh thêm chi phí khác như phí vận chuyển, phụ phí hàng cồng kềnh, thuế nhập khẩu (đối với đơn hàng giao từ nước ngoài có giá trị trên 1 triệu đồng).....', rating_average=4.8, quantity_sold=32165, review_count=1216, image=[], category='Sách tư duy - Kỹ năng sống'), Book(id=392568, name='Marvellous Techniques For IELTS Writing', quantity=1, author=[436979], price=201000, description='Marvellous Techniques For IELTS WritingGiá sản phẩm trên Tiki đã bao gồm thuế theo luật hiện hành. Bên cạnh đó, tuỳ vào loại sản phẩm, hình thức và địa chỉ giao hàng mà có thể phát sinh thêm chi phí khác như phí vận chuyển, phụ phí hàng cồng kềnh, thuế nhập khẩu (đối với đơn hàng giao từ nước ngoài có giá trị trên 1 triệu đồng).....', rating_average=5.0, quantity_sold=46, review_count=1, image=[], category='Sách Học Tiếng Anh'), Book(id=427631, name='Tầm Nhìn Thay Đổi Quốc Gia', quantity=48, author=[32378], price=174200, description='Tầm Nhìn Thay Đổi Quốc Gia\\n\"Người lãnh đạo tốt là người luôn đặt lợi ích của cộng đồng lên trước lợi ích của bất kỳ phe nhóm nào.\"\\n(Mohammed bin Rashid AI Maktoum)\\nTừ một Tiểu quốc có nhiều người dân chết đói trong một nền kinh tế kiệt quệ, Dubai vụt nổi lên như một hiện tượng thành công vượt trội và được cả thế giới ngưỡng mộ.\\nChỉ trong 20 năm, với dân số khoảng 2 triệu người trên một diện tích 4.000 km2, Dubai đã phát triển thần kỳ, trở thành một thành phố toàn cầu và là một trung tâm kinh tế của thế giới với các với các trung tâm tài chính, công nghệ thông tin, du lịch, cảng biển, bất động sản, các công trình đồ sộ bậc nhất thế giới: The Palm - quần đảo nhân tạo lớn và đẹp nhất thế giới; Burj Khalifa - tòa nhà cao nhất thế giới; Jebel Ali - cảng nước sâu nhân tạo lớn nhất thế giới,\\nĐiều gì đã tạo nên sự kỳ diệu đó? Quyển sách này sẽ cho chúng ta phần lớn câu trả lời, từ chính Quốc vương của Dubai - Sheikh MohammedSách thuộc kho sách cũ, sách tồn kho, không đổi trả. Khách hàng vui lòng cân nhắc trước khi mua.Giá sản phẩm trên Tiki đã bao gồm thuế theo luật hiện hành. Bên cạnh đó, tuỳ vào loại sản phẩm, hình thức và địa chỉ giao hàng mà có thể phát sinh thêm chi phí khác như phí vận chuyển, phụ phí hàng cồng kềnh, thuế nhập khẩu (đối với đơn hàng giao từ nước ngoài có giá trị trên 1 triệu đồng).....', rating_average=4.7, quantity_sold=1985, review_count=48, image=[], category='Bài học kinh doanh'), Book(id=447164, name='Tôi Vẽ - Phương Pháp Tự Học Vẽ Truyện Tranh', quantity=180, author=[12983], price=75000, description='Tôi Vẽ - Phương Pháp Tự Học Vẽ Truyện Tranh\\n“Tôi Vẽ\" với 300 trang sách bao gồm những kỹ năng cơ bản cần có của một họa sĩ truyện tranh, từ tạo hình nhân vật, thiết kế bối cảnh, biểu cảm, các kỹ thuật diễn họa cho đến luật phối cảnh. Đây là một cuốn cẩm nang tuyệt vời dành cho các bạn đang bắt đầu học vẽ truyện tranh. Những kiến thức này có thể không giúp các bạn vẽ đẹp ngay lập tức nhưng sẽ là nền tảng vững chắc giúp bạn hình thành các tiêu chuẩn chuyên nghiệp trong nghề và không mất thời gian tự mò mẫm. Phần minh họa cho các bài học cũng rất hấp dẫn và sáng tạo. Các tác giả đã sử dụng chính nhân vật và trang truyện của mình để làm rõ sự liên quan giữa lý thuyết và thực tế, tính ứng dụng rõ ràng của các kỹ thuật và quy trình sáng tác.\\nTrên thị trường hiện tại không thiếu những quyển sách dạy vẽ truyện tranh được dịch và biên tập lại từ nhiều nguồn nhưng đa số là kiểu sách “cầm tay chỉ việc”, không thật sữ hữu ích với các bạn trẻ Việt Nam - những bạn không theo học chuyên ngành mỹ thuật, thiếu kiến thức nền tảng về hội họa… Ngược lại, trong quyển Tôi vẽ, mọi phần kiến thức từ lớn đến nhỏ đều được lý giải và phân tích khá kỹ kèm ảnh minh họa rõ ràng, giúp người xem hiểu được gốc rễ vấn đề đồng thời áp dụng áp dụng vào nhiều “ngữ cảnh” khác nhau trong lúc sáng tác. Hệ thống kiến thức trong sách cũng được sắp xếp hợp lý từ thấp đến cao, xen kẽ là những trang truyện và hình minh họa vui nhộn làm giảm áp lực cho phần lý thuyết hơi khô cứng như phần phối cảnh và anatony (giải phẫu).”\\n(Phan Vũ Linh - Giảng viên Trường Đại học Mỹ thuật Tp. HCM, Sáng lập Sân Si Studio)\\nNội dung sách gồm các phần:\\nChương 1: Hình khối\\nChương 2: Chân dung\\nChương 3: Cơ thể người\\nChương 4: Trang phục\\nChương 5: Phối cảnh\\nChương 6: Phần mềmGiá sản phẩm trên Tiki đã bao gồm thuế theo luật hiện hành. Bên cạnh đó, tuỳ vào loại sản phẩm, hình thức và địa chỉ giao hàng mà có thể phát sinh thêm chi phí khác như phí vận chuyển, phụ phí hàng cồng kềnh, thuế nhập khẩu (đối với đơn hàng giao từ nước ngoài có giá trị trên 1 triệu đồng).....', rating_average=5.0, quantity_sold=1282, review_count=180, image=[], category='Tranh Truyện'), Book(id=464132, name='Truyện Kiều', quantity=11, author=[10459], price=28700, description='Truyện Kiều \\nTác phẩm Truyện Kiều, nguyên tên là Đoạn trường tân thanh, từ khi ra đời đến nay (khoảng 200 năm), trong lịch sử Văn học Việt Nam chưa có công trình nào nghiên cứu sâu sắc về nó. Một trong nguyên nhân chính là vì bản gốc của Nguyễn Du sáng tác không còn nữa. Tuy nhiên, không phải vì vậy mà Truyện Kiều bị mai một. Truyện Kiều vẫn trường tồn với thời gian, những lời thơ, câu chữ đến nay vẫn còn nguyên giá trị:\\n\"Trăm năm trong cõi người ta,\\nChữ tài chữ mệnh khéo là ghét nhau.\\nTrải qua một cuộc bể dâu,\\nNhững điều trông thấy mà đau đớn lòng.\\nLạ gì bỉ sắc tư phong,\\nTrời xanh quen thói má hồng đánh ghen\".Giá sản phẩm trên Tiki đã bao gồm thuế theo luật hiện hành. Bên cạnh đó, tuỳ vào loại sản phẩm, hình thức và địa chỉ giao hàng mà có thể phát sinh thêm chi phí khác như phí vận chuyển, phụ phí hàng cồng kềnh, thuế nhập khẩu (đối với đơn hàng giao từ nước ngoài có giá trị trên 1 triệu đồng).....', rating_average=5.0, quantity_sold=48, review_count=11, image=[], category='Truyện ngắn - Tản văn - Tạp Văn'), Book(id=475974, name='Harry Potter Và Hòn Đá Phù Thủy - Tập 1 (Bản Đặc Biệt Có Tranh Minh Họa Màu)', quantity=308, author=[731], price=666000, description=' Harry Potter Và Hòn Đá Phù Thủy - Tập 1 (Bản Đặc Biệt Có Tranh Minh Họa Màu) \\nTrước sinh nhật lần thứ 11, Harry Potter là cậu bé mắt cận nhỏ thó, mồ côi cha mẹ, ở cùng dì dượng và luôn bị cậu anh họ     bắt nạt. Kể từ ngày lão khổng lồ Rubeus Hagrid đến tìm cậu vào đúng ngày sinh nhật để đưa đến Học viện Phù Thủy và Pháp Thuật     Howart, cậu mới biết bản thân mình là ai, cha mẹ mình đã chết như thế nào.\\nQuá trình ở học viên Howart của Harry tràn đầy những điều mới lạ, những người bạn và vô vàn khám phá ly kỳ.Giá sản phẩm trên Tiki đã bao gồm thuế theo luật hiện hành. Bên cạnh đó, tuỳ vào loại sản phẩm, hình thức và địa chỉ giao hàng mà có thể phát sinh thêm chi phí khác như phí vận chuyển, phụ phí hàng cồng kềnh, thuế nhập khẩu (đối với đơn hàng giao từ nước ngoài có giá trị trên 1 triệu đồng).....', rating_average=4.7, quantity_sold=3491, review_count=308, image=[], category='Truyện kể cho bé'), Book(id=480040, name='Đắc Nhân Tâm (Khổ Lớn)', quantity=0, author=[133], price=68000, description='\\nĐắc nhân tâm của Dale Carnegie là quyển sách duy nhất về thể loại self-help liên tục đứng đầu danh mục sách bán chạy nhất (best-selling Books) do báo The New York Times bình chọn suốt 10 năm liền. Được xuất bản năm 1936, với số lượng bán ra hơn 15 triệu bản, tính đến nay, sách đã được dịch ra ở hầu hết các ngôn ngữ, trong đó có cả Việt Nam, và đã nhận được sự đón tiếp nhiệt tình của đọc giả ở hầu hết các quốc gia.\\nLà quyển sách đầu tiên có ảnh hưởng làm thay đổi cuộc đời của hàng triệu người trên thế giới, Đắc Nhân Tâm là cuốn sách đem lại những giá trị tuyệt vời cho người đọc, bao gồm những lời khuyên cực kì bổ ích về cách ứng xử trong cuộc sống hàng ngày. Sức lan toả của quyển sách vô cùng rộng lớn – với nhiều tầng lớp, đối tượng.\\nĐắc Nhân Tâm không chỉ là là nghệ thuật thu phục lòng người, Đắc Nhân Tâm còn đem lại cho độc giả góc nhìn, suy nghĩ sâu sắc về việc giao tiếp ứng xử.\\nTriết lý của Đắc Nhân Tâm là hiểu mình, thành thật với chính mình, từ đó hiểu biết và quan tâm đến những người xung quanh để nhìn ra và khơi gợi những tiềm năng ẩn khuất nơi họ, giúp họ phát triển lên một tầm cao mới. Đây chính là nghệ thuật cao nhất về con người và chính là ý nghĩa sâu sắc nhất đúc kết từ những nguyên tắc vàng của Dale Carnegie.\\nĐây là phiên bản Đắc Nhân Tâm đặc biệt, bìa cứng dày 320 trang, do First News thực hiện và Nhà xuất bản Tổng hợp TP.HCM ấn hành.\\nMột số nguyên tắc – Nghệ thuật ứng xử căn bản:\\nNguyên tắc 1: Không chỉ trích, oán trách hay than phiền.\\nNguyên tắc 2: Thành thật khen ngợi và biết ơn người khác.\\nNguyên tắc 3: Gợi cho người khác ý muốn thực hiện điều bạn muốn họ làm.\\n6 cách tạo thiện cảm:\\nNguyên tắc 4: Thật lòng quan tâm đến người khác.\\nNguyên tắc 5: Hãy mỉm cười!\\nNguyên tắc 6: Luôn nhớ rằng tên của người khác là một âm thâm êm đềm, thân thương và quan trọng nhất đối với họ.\\nNguyên tắc 7: Biết lắng nghe và khuyến khích người khác nói về vấn đề của họ.\\nNguyên tắc 8: Nói về điều người khác quan tâm.\\nNguyên tắc 9: Thật lòng làm cho người khác cảm thấy họ quan trọng.\\nBáo chí nhắc gì về “Đắc Nhân Tâm”\\n“Nói đến sách nghệ thuật ứng xử thì không thể không nhắc đến \"Đắc nhân tâm\" của Dale Carnegie. Đây là một trong những cuốn sách gối đầu của nhiều thế hệ đi trước và ngày nay. Với chặng đường hơn 80 năm kể từ khi lần đầu được xuất bản, \"Đắc nhân tâm\" đã mang đến cho chúng ta bài học vô cùng giá trị đó là nghệ thuật ứng xử để được lòng người. \"Đắc nhân tâm\" là quyển sách nổi tiếng và bán chạy nhất và có mặt ở hàng trăm quốc gia khác nhau, và hơn thế nữa đây còn là quyển sách liên tục đứng đầu danh mục sách bán chạy nhất do thời báo NewYork Times bình chọn trọng suốt 10 năm liền.” – C, 3 cuốn sách nên đọc đi đọc lại trong đời để ngẫm về cuộc sống\\n“Đắc Nhân Tâm – của tác giả Dale Carnegie là quyển sách nổi tiếng nhất, bán chạy nhất và có tầm ảnh hưởng nhất của mọi thời đại. Tác phẩm đã được chuyển ngữ sang hầu hết các thứ tiếng trên thế giới và có mặt ở hàng trăm quốc gia. Một khám phá rất thú vị dành cho các bậc phụ huynh khi đọc cuốn sách này là biết cách lắng nghe trò chuyện cùng con, cách trị chứng tè dầm của trẻ nhỏ, hay cách làm cho một đứa trẻ từ quậy phá thành ngoan ngoãn… Đó hẳn là những câu chuyện nuôi dạy trẻ rất đúng, rất hay, rất đời thường đáng để bạn đọc suy ngẫm và chiêm nghiệm”. – M, Đắc nhân tâm: ‘Cha đã quên’ nhắc những điều nên nhớ\\n“Đắc Nhân Tâm” đưa ra những lời khuyên về cách cư xử, ứng xử và giao tiếp với mọi người để đạt được thành công trong cuộc sống. Đây được coi là một trong những cuốn sách nổi tiếng nhất, bán chạy nhất và có tầm ảnh hưởng nhất mọi thời đại mà bạn không nên bỏ qua.” – C, 20 câu nói vàng đáng nhớ từ tuyệt tác để đời “Đắc Nhân Tâm”.\\nVề tác giả\\nDale Breckenridge Carnegie (24 tháng 11 năm 1888 – 1 tháng 11 năm 1955) là một nhà văn và nhà thuyết trình Mỹ và là người phát triển các lớp tự giáo dục, nghệ thuật bán hàng, huấn luyện đoàn thể, nói trước công chúng và các kỹ năng giao tiếp giữa mọi người. Ra đời trong cảnh nghèo đói tại một trang trại ở Missouri, ông là tác giả cuốn Đắc Nhân Tâm, được xuất bản lần đầu năm 1936, một cuốn sách thuộc hàng bán chạy nhất và được biết đến nhiều nhất cho đến tận ngày nay. Ông cũng viết một cuốn tiểu sử Abraham Lincoln, với tựa đề Lincoln con người chưa biết, và nhiều cuốn sách khác.\\nCarnegie là một trong những người đầu tiên đề xuất cái ngày nay được gọi là đảm đương trách nhiệm, dù nó chỉ được đề cập tỉ mỉ trong tác phẩm viết của ông. Một trong những ý tưởng chủ chốt trong những cuốn sách của ông là có thể thay đổi thái độ của người khác khi thay đổi sự đối xử của ta với họ.\\nGiá sản phẩm trên Tiki đã bao gồm thuế theo luật hiện hành. Bên cạnh đó, tuỳ vào loại sản phẩm, hình thức và địa chỉ giao hàng mà có thể phát sinh thêm chi phí khác như phí vận chuyển, phụ phí hàng cồng kềnh, thuế nhập khẩu (đối với đơn hàng giao từ nước ngoài có giá trị trên 1 triệu đồng).....', rating_average=0.0, quantity_sold=28, review_count=0, image=[], category='Sách tư duy - Kỹ năng sống'), Book(id=519382, name='First 100 Words', quantity=7, author=[5907], price=122500, description='First 100 Words\\nYour little one will soon learn some essential first words and pictures with this bright board book. There are 100 color photographs to look at and talk about, and 100 simple first words to read and learn, too. The pages are made from tough board for hours of fun reading, and the cover is softly padded for little hands to hold.Giá sản phẩm trên Tiki đã bao gồm thuế theo luật hiện hành. Bên cạnh đó, tuỳ vào loại sản phẩm, hình thức và địa chỉ giao hàng mà có thể phát sinh thêm chi phí khác như phí vận chuyển, phụ phí hàng cồng kềnh, thuế nhập khẩu (đối với đơn hàng giao từ nước ngoài có giá trị trên 1 triệu đồng).....', rating_average=5.0, quantity_sold=63, review_count=7, image=[], category='Early Learning'), Book(id=520330, name='Đất Máu Sicily (Mario Puzo)', quantity=42, author=[10053], price=93600, description='Đất Máu Sicily\\nSicily ngập tràn ánh mặt trời Địa Trung Hải, thoang thoảng hương cam chanh là xứ sở của núi non đẹp như tranh rải rác những phế tích lâu đời. Ở đó tầng lớp dân nghèo suốt nhiều thế kỉ phải chịu sự đè nén của nhiều thế lực tham lam và hà khắc, từ ngoại xâm đến phát-xít, từ các phe phái chính trị đến giới mafia và quý tộc địa phương. Ở đó những huyền thoại anh hùng xa xưa được truyền tụng như chỉ là mơ ước. Cho đến một ngày, xứ sở tươi đẹp và bạo tàn ấy đã sản sinh ra một nhân vật được xưng tụng là anh hùng của dân nghèo, là Robin Hood của nước Ý…\\nTác phẩm Đất máu Sicily của Mario Puzo dựng lên một thế giới chằng chịt những âm mưu và thù hận, bạo lực sinh bạo lực, phản trắc sinh phản trắc. Ở trung tâm của thế giới ấy là thủ lĩnh băng cướp Turi Guiliano được khắc họa đầy lãng mạn như một chiến binh, một người tình, và trên hết là một người Sicily từ trong máu thịt.\\xa0Phải chăng một thiên sử thi mới đang được viết ra cho xứ sở khốn cùng này?Giá sản phẩm trên Tiki đã bao gồm thuế theo luật hiện hành. Bên cạnh đó, tuỳ vào loại sản phẩm, hình thức và địa chỉ giao hàng mà có thể phát sinh thêm chi phí khác như phí vận chuyển, phụ phí hàng cồng kềnh, thuế nhập khẩu (đối với đơn hàng giao từ nước ngoài có giá trị trên 1 triệu đồng).....', rating_average=5.0, quantity_sold=310, review_count=42, image=[], category='Tác phẩm kinh điển'), Book(id=520337, name='Luật Im Lặng (Mario Puzo)', quantity=51, author=[10053], price=77900, description='Luật Im Lặng\\n“Tổ chức Mafia củng cố uy quyền bằng luật omerta nghĩa là làm thinh, câm nín. Dân quê Sicily kín miệng đến nỗi người lạ hỏi đường cũng làm thinh. Trong nội bộ Mafia có tội nào đáng chết bằng tội mật báo cảnh sát? Dù chỉ đi thưa lính, tố cáo một thằng vừa giết hụt mình hay vừa đánh đập mình có thương tích. Sau cùng luật omerta trở thành một đạo sống của mọi giới. Chồng con bị giết, con gái bị hãm hiếp, người đàn bà chính gốc Sicily chẳng bao giờ đi thưa lính, nhờ nhà nước giải quyết. Vì nhà nước không có quyền đó. Phải là Mafia!”\\nCái luật im lặng cổ xưa ấy chính là bức tường thành của Mafia suốt mấy trăm năm. Nhưng đó là ở nơi đất máu Sicily nhiều năm trước. Trên đất Mỹ, khi nhân loại sắp bước sang thiên niên kỉ mới, liệu omerta có còn cái quyền năng vô song để bảo vệ các ông trùm?Giá sản phẩm trên Tiki đã bao gồm thuế theo luật hiện hành. Bên cạnh đó, tuỳ vào loại sản phẩm, hình thức và địa chỉ giao hàng mà có thể phát sinh thêm chi phí khác như phí vận chuyển, phụ phí hàng cồng kềnh, thuế nhập khẩu (đối với đơn hàng giao từ nước ngoài có giá trị trên 1 triệu đồng).....', rating_average=5.0, quantity_sold=194, review_count=51, image=[], category='Truyện ngắn - Tản văn - Tạp Văn'), Book(id=531109, name=\"i-Learn Smart Start Grade 3 Student's Book (Phiên Bản Dành Cho Các Tỉnh)\", quantity=27, author=[], price=106700, description=\"I-Learn Smart Start Grade 3 Student Book\\nSmart Start is a 5-level course for young learners of English. It has been developed by an experienced team of International and Vietnamese writers and teachers to be a perfect fit for the Vietnamese classroom.\\n- Solid curriculum\\nBased on \\xa0the Cambridge Young Learner's syllabus and the Vietnamese Ministry of Education and Training (MOET) guidelines.\\n- User-friendly lesson format\\nClear, consistent, and logical format makes lessons easy to prepare, teach, and understand.\\n- Proven, mmotivational materials\\nCatchy songs, colorful comic strips, and fun games catch students' interest.\\n- Effective balance of skills\\nA level appropriate mix of Listening, Speaking, Reading and Writing tasks to systematically develop student abilities.\\n- Knowledge and culture focus\\nCore subjects (math, science, geoography, etc.) and moral lessons (be helpful, respect elders, be neat and tidy, etc.) are covered within a Vietnamese cutural setting.\\n- Test taking skills\\nEach theme includes excercises that familiarize students with the common tasks they will find on exams like the Cambridge Young Learners exams.Giá sản phẩm trên Tiki đã bao gồm thuế theo luật hiện hành. Bên cạnh đó, tuỳ vào loại sản phẩm, hình thức và địa chỉ giao hàng mà có thể phát sinh thêm chi phí khác như phí vận chuyển, phụ phí hàng cồng kềnh, thuế nhập khẩu (đối với đơn hàng giao từ nước ngoài có giá trị trên 1 triệu đồng).....\", rating_average=4.8, quantity_sold=210, review_count=27, image=[], category='Teaching - Learning'), Book(id=540039, name='Giáo Trình Chuẩn HSK 1 - Bài Học (Kèm file MP3)', quantity=933, author=[63949], price=147000, description='Giáo Trình Chuẩn HSK 1 - Bài Học\\nĐược chia thành 6 cấp độ với tổng cộng 18 cuốn, Giáo trình chuẩn HSK có những đặc điểm nổi bật sau:\\n• Kết hợp thi cử và giảng dạy: Được biên soạn phù hợp với nội dung, hình thức cũng như các cấp độ của đề thi HSK thật, bộ sách này có thể được sử dụng đồng thời cho cả hai mục đích là giảng dạy tiếng Trung Quốc và luyện thi HSK. • Bố cục chặt chẽ và khoa học: Các điểm ngữ pháp được giải thích cặn kẽ, phần ngữ âm và chữ Hán được trình bày từ đơn giản đến phức tạp theo từng cấp độ.\\n• Đề tài quen thuộc, nhiều tình huống thực tế: Bài học được thiết kế không quá dài và đề cập đến nhiều tình huống (có file MP3 kèm theo), giúp bạn rèn luyện các kỹ năng ngôn ngữ và tránh cảm giác căng thẳng trong lúc học. • Cách viết thú vị: Bằng cách viết sinh động kèm nhiều hình ảnh minh họa, tác giả bộ sách chỉ cho bạn thấy học tiếng Trung Quốc không hề khô khan, nhàm chán.\\nVới nhiều ưu điểm nổi bật như vừa nêu, Giáo trình chuẩn HSK không chỉ là tài liệu giảng dạy hữu ích ở các trung tâm dạy tiếng Trung Quốc mà còn rất thích hợp với những người muốn tự học ngôn ngữ này.\\nLưu ý: Quét mã QR hoặc truy cập vào trang web phía sau sách để tải file MP3Giá sản phẩm trên Tiki đã bao gồm thuế theo luật hiện hành. Bên cạnh đó, tuỳ vào loại sản phẩm, hình thức và địa chỉ giao hàng mà có thể phát sinh thêm chi phí khác như phí vận chuyển, phụ phí hàng cồng kềnh, thuế nhập khẩu (đối với đơn hàng giao từ nước ngoài có giá trị trên 1 triệu đồng).....', rating_average=4.8, quantity_sold=8004, review_count=933, image=[], category='Sách Học Tiếng Hoa')]\n"
     ]
    }
   ],
   "source": [
    "all_books = book_repository.get_all_books()\n",
    "print(all_books[:15])"
   ]
  },
  {
   "cell_type": "code",
   "execution_count": 36,
   "metadata": {},
   "outputs": [
    {
     "data": {
      "text/plain": [
       "{'message': 'book created successfully.'}"
      ]
     },
     "execution_count": 36,
     "metadata": {},
     "output_type": "execute_result"
    }
   ],
   "source": [
    "book_repository.add_book(book2)"
   ]
  },
  {
   "cell_type": "code",
   "execution_count": 10,
   "metadata": {},
   "outputs": [
    {
     "name": "stdout",
     "output_type": "stream",
     "text": [
      "id=111111 name='Nhà Giả Kim' quantity=29 author=[] price=71100 description='Nhà Giả Kim Tất cả những trải nghiệm trong chuyến phiêu du theo đuổi vận mệnh của mình đã giúp Santiago thấu hiểu được ý nghĩa sâu xa nhất của hạnh phúc, hòa hợp với vũ trụ và con người.\\nTiểu thuyết Nhà giả kim của Paulo Coelho như một câu chuyện cổ tích giản dị, nhân ái, giàu chất thơ, thấm đẫm những minh triết huyền bí của phương Đông. Trong lần xuất bản đầu tiên tại Brazil vào năm 1988, sách chỉ bán được 900 bản. Nhưng, với số phận đặc biệt của cuốn sách dành cho toàn nhân loại, vượt ra ngoài biên giới quốc gia, Nhà giả kim đã làm rung động hàng triệu tâm hồn, trở thành một trong những cuốn sách bán chạy nhất mọi thời đại, và có thể làm thay đổi cuộc đời người đọc.\\n“Nhưng nhà luyện kim đan không quan tâm mấy đến những điều ấy. Ông đã từng thấy nhiều người đến rồi đi, trong khi ốc đảo và sa mạc vẫn là ốc đảo và sa mạc. Ông đã thấy vua chúa và kẻ ăn xin đi qua biển cát này, cái biển cát thường xuyên thay hình đổi dạng vì gió thổi nhưng vẫn mãi mãi là biển cát mà ông đã biết từ thuở nhỏ. Tuy vậy, tự đáy lòng mình, ông không thể không cảm thấy vui trước hạnh phúc của mỗi người lữ khách, sau bao ngày chỉ có cát vàng với trời xanh nay được thấy chà là xanh tươi hiện ra trước mắt. ‘Có thể Thượng đế tạo ra sa mạc chỉ để cho con người biết quý trọng cây chà là,’ ông nghĩ.”\\n- Trích Nhà giả kimGiá sản phẩm trên Tiki đã bao gồm thuế theo luật hiện hành. Bên cạnh đó, tuỳ vào loại sản phẩm, hình thức và địa chỉ giao hàng mà có thể phát sinh thêm chi phí khác như phí vận chuyển, phụ phí hàng cồng kềnh, thuế nhập khẩu (đối với đơn hàng giao từ nước ngoài có giá trị trên 1 triệu đồng).....' rating_average=4.7 quantity_sold=7 review_count=5 image=[] category='Tiểu Thuyết'\n"
     ]
    }
   ],
   "source": [
    "tmp=book_repository.get_book_by_id(111111)\n",
    "print(tmp)"
   ]
  },
  {
   "cell_type": "code",
   "execution_count": 48,
   "metadata": {},
   "outputs": [
    {
     "ename": "TypeError",
     "evalue": "tuple indices must be integers or slices, not str",
     "output_type": "error",
     "traceback": [
      "\u001b[1;31m---------------------------------------------------------------------------\u001b[0m",
      "\u001b[1;31mTypeError\u001b[0m                                 Traceback (most recent call last)",
      "Cell \u001b[1;32mIn[48], line 1\u001b[0m\n\u001b[1;32m----> 1\u001b[0m \u001b[43mbook_repository\u001b[49m\u001b[38;5;241;43m.\u001b[39;49m\u001b[43mupdate_book\u001b[49m\u001b[43m(\u001b[49m\u001b[43mbook3\u001b[49m\u001b[43m)\u001b[49m\n",
      "Cell \u001b[1;32mIn[47], line 55\u001b[0m, in \u001b[0;36mBookRepository.update_book\u001b[1;34m(self, book_data)\u001b[0m\n\u001b[0;32m     52\u001b[0m \u001b[38;5;28;01mdef\u001b[39;00m \u001b[38;5;21mupdate_book\u001b[39m(\u001b[38;5;28mself\u001b[39m, book_data: \u001b[38;5;28mdict\u001b[39m):\n\u001b[0;32m     53\u001b[0m     \u001b[38;5;66;03m# Tạo đối tượng book và cập nhật dữ liệu\u001b[39;00m\n\u001b[0;32m     54\u001b[0m     book \u001b[38;5;241m=\u001b[39m create_book(book_data)\n\u001b[1;32m---> 55\u001b[0m     key \u001b[38;5;241m=\u001b[39m \u001b[38;5;28mint\u001b[39m(\u001b[43mbook_data\u001b[49m\u001b[43m[\u001b[49m\u001b[38;5;124;43m\"\u001b[39;49m\u001b[38;5;124;43mid\u001b[39;49m\u001b[38;5;124;43m\"\u001b[39;49m\u001b[43m]\u001b[49m)\n\u001b[0;32m     56\u001b[0m     FirebaseService\u001b[38;5;241m.\u001b[39mupdate_data(\u001b[38;5;28mself\u001b[39m\u001b[38;5;241m.\u001b[39mcollection_name, key, book\u001b[38;5;241m.\u001b[39mdict())\n\u001b[0;32m     57\u001b[0m     \u001b[38;5;28;01mreturn\u001b[39;00m {\u001b[38;5;124m\"\u001b[39m\u001b[38;5;124mmessage\u001b[39m\u001b[38;5;124m\"\u001b[39m: \u001b[38;5;124m\"\u001b[39m\u001b[38;5;124mbook updated successfully.\u001b[39m\u001b[38;5;124m\"\u001b[39m}\n",
      "\u001b[1;31mTypeError\u001b[0m: tuple indices must be integers or slices, not str"
     ]
    }
   ],
   "source": [
    "book_repository.update_book(book3)"
   ]
  },
  {
   "cell_type": "code",
   "execution_count": 30,
   "metadata": {},
   "outputs": [
    {
     "data": {
      "text/plain": [
       "{'message': 'book updated successfully.'}"
      ]
     },
     "execution_count": 30,
     "metadata": {},
     "output_type": "execute_result"
    }
   ],
   "source": [
    "book_repository.update_book_byID(111111,book2)"
   ]
  },
  {
   "cell_type": "code",
   "execution_count": 40,
   "metadata": {},
   "outputs": [
    {
     "data": {
      "text/plain": [
       "{'message': 'book deleted successfully.'}"
      ]
     },
     "execution_count": 40,
     "metadata": {},
     "output_type": "execute_result"
    }
   ],
   "source": [
    "book_repository.delete_book(book2[\"id\"])"
   ]
  }
 ],
 "metadata": {
  "kernelspec": {
   "display_name": "myenv",
   "language": "python",
   "name": "python3"
  },
  "language_info": {
   "codemirror_mode": {
    "name": "ipython",
    "version": 3
   },
   "file_extension": ".py",
   "mimetype": "text/x-python",
   "name": "python",
   "nbconvert_exporter": "python",
   "pygments_lexer": "ipython3",
   "version": "3.10.7"
  }
 },
 "nbformat": 4,
 "nbformat_minor": 2
}
