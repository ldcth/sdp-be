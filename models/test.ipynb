{
 "cells": [
  {
   "cell_type": "code",
   "execution_count": 9,
   "metadata": {},
   "outputs": [
    {
     "name": "stdout",
     "output_type": "stream",
     "text": [
      "id='1' name='John Doe' username='admin123' password='securepassword' date='2024-11-29' gender=True info='System Administrator' phone='0123456789' role='Admin' permissions=['manage_users', 'view_reports', 'edit_content'] managed_users=['2', '3', '4']\n",
      "id='2' name='Jane Smith' username='jane_smith' password='userpassword' date='2024-11-29' gender=False info='Regular customer' phone='0123456789' role='User' cart=['book1', 'book2'] history=['order1', 'order2']\n",
      "id='3' name='Mike Johnson' username='delivery_mike' password='deliversecure' date='2024-11-29' gender=True info='Delivery Specialist' phone='0123456789' role='DeliveryMan' history=['delivery1', 'delivery2'] region='Downtown'\n"
     ]
    }
   ],
   "source": [
    "from users import  create_user \n",
    "\n",
    "admin_data = {\n",
    "    \"id\": \"1\",\n",
    "    \"name\": \"John Doe\",\n",
    "    \"username\": \"admin123\",\n",
    "    \"password\": \"securepassword\",\n",
    "    \"date\": \"2024-11-29\",\n",
    "    \"phone\": \"0123456789\",\n",
    "    \"gender\": True,\n",
    "    \"info\": \"System Administrator\",\n",
    "    \"role\": \"Admin\",\n",
    "    \"permissions\": [\"manage_users\", \"view_reports\", \"edit_content\"],\n",
    "    \"managed_users\": [\"2\", \"3\", \"4\"],\n",
    "}\n",
    "\n",
    "# Dữ liệu mẫu cho RegularUser\n",
    "user_data = {\n",
    "    \"id\": \"2\",\n",
    "    \"name\": \"Jane Smith\",\n",
    "    \"username\": \"jane_smith\",\n",
    "    \"password\": \"userpassword\",\n",
    "    \"date\": \"2024-11-29\",\n",
    "    \"phone\": \"0123456789\",\n",
    "    \"gender\": False,\n",
    "    \"info\": \"Regular customer\",\n",
    "    \"role\": \"User\",\n",
    "    \"cart\": [\"book1\", \"book2\"],\n",
    "    \"history\": [\"order1\", \"order2\"],\n",
    "    # \"subscription_type\": \"Premium\",\n",
    "    # \"wishlist\": [\"book3\", \"book4\"],\n",
    "}\n",
    "\n",
    "# Dữ liệu mẫu cho DeliveryMan\n",
    "delivery_man_data = {\n",
    "    \"id\": \"3\",\n",
    "    \"name\": \"Mike Johnson\",\n",
    "    \"username\": \"delivery_mike\",\n",
    "    \"password\": \"deliversecure\",\n",
    "    \"date\": \"2024-11-29\",\n",
    "    \"phone\": \"0123456789\",\n",
    "    \"gender\": True,\n",
    "    \"info\": \"Delivery Specialist\",\n",
    "    \"role\": \"DeliveryMan\",\n",
    "    \"history\": [\"delivery1\", \"delivery2\"],\n",
    "    # \"vehicle\": \"Motorbike\",\n",
    "    \"region\": \"Downtown\",\n",
    "    # \"completed_deliveries\": 120,\n",
    "    # \"rating\":[5, 5]\n",
    "}\n",
    "\n",
    "# Tạo đối tượng bằng Factory Method\n",
    "admin = create_user(admin_data)\n",
    "user1 = create_user(user_data)\n",
    "delivery_man = create_user(delivery_man_data)\n",
    "\n",
    "# Kiểm tra kết quả\n",
    "print(admin)\n",
    "print(user1)\n",
    "print(delivery_man)"
   ]
  },
  {
   "cell_type": "code",
   "execution_count": 11,
   "metadata": {},
   "outputs": [
    {
     "ename": "ModuleNotFoundError",
     "evalue": "No module named 'core'",
     "output_type": "error",
     "traceback": [
      "\u001b[1;31m---------------------------------------------------------------------------\u001b[0m",
      "\u001b[1;31mModuleNotFoundError\u001b[0m                       Traceback (most recent call last)",
      "Cell \u001b[1;32mIn[11], line 4\u001b[0m\n\u001b[0;32m      1\u001b[0m \u001b[38;5;28;01mimport\u001b[39;00m \u001b[38;5;21;01mpyrebase\u001b[39;00m\n\u001b[0;32m      2\u001b[0m \u001b[38;5;28;01mimport\u001b[39;00m \u001b[38;5;21;01muuid\u001b[39;00m\n\u001b[1;32m----> 4\u001b[0m \u001b[38;5;28;01mfrom\u001b[39;00m \u001b[38;5;21;01mcore\u001b[39;00m\u001b[38;5;21;01m.\u001b[39;00m\u001b[38;5;21;01mconfig\u001b[39;00m \u001b[38;5;28;01mimport\u001b[39;00m db\n\u001b[0;32m      6\u001b[0m problems \u001b[38;5;241m=\u001b[39m db\u001b[38;5;241m.\u001b[39mchild(\u001b[38;5;124m\"\u001b[39m\u001b[38;5;124muser\u001b[39m\u001b[38;5;124m\"\u001b[39m)\u001b[38;5;241m.\u001b[39mget()\n\u001b[0;32m      8\u001b[0m \u001b[38;5;66;03m# Iterate through the retrieved data\u001b[39;00m\n",
      "\u001b[1;31mModuleNotFoundError\u001b[0m: No module named 'core'"
     ]
    }
   ],
   "source": [
    "import pyrebase\n",
    "import uuid\n",
    "\n",
    "from core.config import db\n",
    "\n",
    "problems = db.child(\"user\").get()\n",
    "\n",
    "# Iterate through the retrieved data\n",
    "for problem in problems.each():\n",
    "    print(problem.key(), problem.val())"
   ]
  }
 ],
 "metadata": {
  "kernelspec": {
   "display_name": "myenv",
   "language": "python",
   "name": "python3"
  },
  "language_info": {
   "codemirror_mode": {
    "name": "ipython",
    "version": 3
   },
   "file_extension": ".py",
   "mimetype": "text/x-python",
   "name": "python",
   "nbconvert_exporter": "python",
   "pygments_lexer": "ipython3",
   "version": "3.10.7"
  }
 },
 "nbformat": 4,
 "nbformat_minor": 2
}
