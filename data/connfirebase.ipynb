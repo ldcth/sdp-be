{
 "cells": [
  {
   "cell_type": "code",
   "execution_count": 1,
   "metadata": {},
   "outputs": [],
   "source": [
    "import pyrebase\n",
    "import uuid"
   ]
  },
  {
   "cell_type": "code",
   "execution_count": null,
   "metadata": {},
   "outputs": [
    {
     "name": "stdout",
     "output_type": "stream",
     "text": [
      "test1 {'description': 'ádasdsadsad', 'id': 1, 'name': 'test1', 'price': 100000}\n"
     ]
    }
   ],
   "source": [
    "from core.config import db\n",
    "\n",
    "problems = db.child(\"books\").get()\n",
    "\n",
    "# Iterate through the retrieved data\n",
    "for problem in problems.each():\n",
    "    print(problem.key(), problem.val())"
   ]
  },
  {
   "cell_type": "code",
   "execution_count": 7,
   "metadata": {},
   "outputs": [
    {
     "name": "stdout",
     "output_type": "stream",
     "text": [
      "Data uploaded successfully.\n"
     ]
    }
   ],
   "source": [
    "import json\n",
    "\n",
    "# Load JSON data\n",
    "with open('products_info_1.json', 'r',  encoding='utf-8') as f:\n",
    "    data = json.load(f)\n",
    "\n",
    "# Upload each problem to the database\n",
    "for book in data['books']:\n",
    "    db.child(\"books\").push(book)\n",
    "\n",
    "print(\"Data uploaded successfully.\")"
   ]
  },
  {
   "cell_type": "code",
   "execution_count": 8,
   "metadata": {},
   "outputs": [
    {
     "name": "stdout",
     "output_type": "stream",
     "text": [
      "Data uploaded successfully.\n"
     ]
    }
   ],
   "source": [
    "import json\n",
    "\n",
    "# Load JSON data\n",
    "with open('products_info_2.json', 'r',  encoding='utf-8') as f:\n",
    "    data = json.load(f)\n",
    "\n",
    "# Upload each problem to the database\n",
    "for book in data['books']:\n",
    "    db.child(\"books\").push(book)\n",
    "\n",
    "print(\"Data uploaded successfully.\")"
   ]
  }
 ],
 "metadata": {
  "kernelspec": {
   "display_name": "myenv",
   "language": "python",
   "name": "python3"
  },
  "language_info": {
   "codemirror_mode": {
    "name": "ipython",
    "version": 3
   },
   "file_extension": ".py",
   "mimetype": "text/x-python",
   "name": "python",
   "nbconvert_exporter": "python",
   "pygments_lexer": "ipython3",
   "version": "3.10.7"
  }
 },
 "nbformat": 4,
 "nbformat_minor": 2
}
